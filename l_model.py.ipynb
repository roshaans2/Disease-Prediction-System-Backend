{
 "cells": [
  {
   "cell_type": "code",
   "execution_count": 5,
   "id": "7c7e6510",
   "metadata": {},
   "outputs": [],
   "source": [
    "import pandas as pd\n",
    "import numpy as np\n",
    "from sklearn.preprocessing import StandardScaler\n",
    "import random\n",
    "from sklearn.model_selection import ShuffleSplit\n",
    "from sklearn.model_selection import cross_validate\n",
    "from imblearn.over_sampling import SMOTE\n",
    "from sklearn.model_selection import train_test_split\n",
    "from sklearn.linear_model import LogisticRegression\n",
    "import joblib"
   ]
  },
  {
   "cell_type": "code",
   "execution_count": 6,
   "id": "1830d2fd",
   "metadata": {},
   "outputs": [
    {
     "name": "stdout",
     "output_type": "stream",
     "text": [
      "11\n",
      "Index(['Age', 'Gender', 'Total_Bilirubin', 'Direct_Bilirubin',\n",
      "       'Alkaline_Phosphotase', 'Alamine_Aminotransferase',\n",
      "       'Aspartate_Aminotransferase', 'Total_Protiens', 'Albumin',\n",
      "       'Albumin_and_Globulin_Ratio', 'Dataset'],\n",
      "      dtype='object')\n"
     ]
    }
   ],
   "source": [
    "data=pd.read_csv(\"indian_liver_patient.csv\")\n",
    "data=data.fillna(method=\"ffill\")\n",
    "data.Gender=data.Gender.map({\"Female\":1,\"Male\":0})\n",
    "data[\"Dataset\"]=data[\"Dataset\"].map({1:0,2:1})\n",
    "np.random.shuffle(data.values)\n",
    "print(data.shape[1])\n",
    "print(data.columns)"
   ]
  },
  {
   "cell_type": "code",
   "execution_count": 8,
   "id": "675b9103",
   "metadata": {},
   "outputs": [
    {
     "name": "stdout",
     "output_type": "stream",
     "text": [
      "{'fit_time': array([0.03682685, 0.02799964, 0.02559996, 0.02104664, 0.02384257,\n",
      "       0.0219996 , 0.02199936, 0.02299953, 0.02704978, 0.02402806]), 'score_time': array([0.0010066 , 0.00100017, 0.00100017, 0.00099921, 0.00046659,\n",
      "       0.00100064, 0.00100017, 0.00100064, 0.00099897, 0.00097036]), 'test_score': array([0.65060241, 0.69879518, 0.75903614, 0.69879518, 0.69879518,\n",
      "       0.73493976, 0.80487805, 0.7195122 , 0.65853659, 0.75609756])}\n"
     ]
    },
    {
     "data": {
      "text/plain": [
       "['liver_model']"
      ]
     },
     "execution_count": 8,
     "metadata": {},
     "output_type": "execute_result"
    }
   ],
   "source": [
    "target=data[\"Dataset\"]\n",
    "source=data.drop([\"Dataset\"],axis=1)\n",
    "sm=SMOTE()\n",
    "sc=StandardScaler()\n",
    "lr=LogisticRegression()\n",
    "source=sc.fit_transform(source)\n",
    "X_train,X_test,y_train,y_test= train_test_split(source,target,test_size=0.01)\n",
    "X_train, y_train=sm.fit_resample(X_train,y_train)\n",
    "cv=cross_validate(lr,X_train,y_train,cv=10)\n",
    "lr.fit(X_train,y_train)\n",
    "print(cv)\n",
    "joblib.dump(lr,\"liver_model\")"
   ]
  },
  {
   "cell_type": "code",
   "execution_count": null,
   "id": "176d65c3",
   "metadata": {},
   "outputs": [],
   "source": []
  }
 ],
 "metadata": {
  "kernelspec": {
   "display_name": "Python 3 (ipykernel)",
   "language": "python",
   "name": "python3"
  },
  "language_info": {
   "codemirror_mode": {
    "name": "ipython",
    "version": 3
   },
   "file_extension": ".py",
   "mimetype": "text/x-python",
   "name": "python",
   "nbconvert_exporter": "python",
   "pygments_lexer": "ipython3",
   "version": "3.10.4"
  }
 },
 "nbformat": 4,
 "nbformat_minor": 5
}
